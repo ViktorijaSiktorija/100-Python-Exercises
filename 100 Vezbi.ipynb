{
 "cells": [
  {
   "cell_type": "code",
   "execution_count": 1,
   "metadata": {},
   "outputs": [
    {
     "name": "stdout",
     "output_type": "stream",
     "text": [
      "2002,2009,2016,2023,2037,2044,2051,2058,2072,2079,2086,2093,2107,2114,2121,2128,2142,2149,2156,2163,2177,2184,2191,2198,2212,2219,2226,2233,2247,2254,2261,2268,2282,2289,2296,2303,2317,2324,2331,2338,2352,2359,2366,2373,2387,2394,2401,2408,2422,2429,2436,2443,2457,2464,2471,2478,2492,2499,2506,2513,2527,2534,2541,2548,2562,2569,2576,2583,2597,2604,2611,2618,2632,2639,2646,2653,2667,2674,2681,2688,2702,2709,2716,2723,2737,2744,2751,2758,2772,2779,2786,2793,2807,2814,2821,2828,2842,2849,2856,2863,2877,2884,2891,2898,2912,2919,2926,2933,2947,2954,2961,2968,2982,2989,2996,3003,3017,3024,3031,3038,3052,3059,3066,3073,3087,3094,3101,3108,3122,3129,3136,3143,3157,3164,3171,3178,3192,3199,\b\n"
     ]
    }
   ],
   "source": [
    "#Question 1\n",
    "#Write a program which will find all such numbers which are divisible by 7 but are not \n",
    "#a multiple of 5, between 2000 and 3200 (both included).The numbers obtained should be printed in a \n",
    "#comma-separated sequence on a single line.\n",
    "#Hints: Consider use range(#begin, #end) method.\n",
    "\n",
    "x = range(2000, 3200)\n",
    "for i in x:\n",
    "    if i%7 == 0 and i%5 != 0:\n",
    "        print(i,end=',')\n",
    "print('\\b')"
   ]
  },
  {
   "cell_type": "code",
   "execution_count": 2,
   "metadata": {},
   "outputs": [
    {
     "name": "stdout",
     "output_type": "stream",
     "text": [
      "8\n",
      "40320\n"
     ]
    }
   ],
   "source": [
    "#Question 2\n",
    "#Write a program which can compute the factorial of a given numbers.The results should be \n",
    "#printed in a comma-separated sequence on a single line.Suppose the following input is supplied to the program: \n",
    "#8 Then, the output should be:40320\n",
    "#Hints: In case of input data being supplied to the question, it should be assumed to be a console input.\n",
    "\n",
    "n = int(input()) #input() function takes input as string type\n",
    "                #int() converts it to integer type\n",
    "fact = 1\n",
    "for i in range(1,n+1):\n",
    "    fact = fact * i\n",
    "print(fact)"
   ]
  },
  {
   "cell_type": "code",
   "execution_count": 3,
   "metadata": {},
   "outputs": [
    {
     "name": "stdout",
     "output_type": "stream",
     "text": [
      "8\n",
      "{1: 1, 2: 4, 3: 9, 4: 16, 5: 25, 6: 36, 7: 49, 8: 64}\n"
     ]
    }
   ],
   "source": [
    "#Question 3\n",
    "#With a given integral number n, write a program to generate a dictionary that contains (i, i x i) \n",
    "#such that is an integral number between 1 and n (both included). and then the program should print the dictionary.\n",
    "#Suppose the following input is supplied to the program: 8 Then, the output should be:\n",
    "#{1: 1, 2: 4, 3: 9, 4: 16, 5: 25, 6: 36, 7: 49, 8: 64}\n",
    "#Hints: In case of input data being supplied to the question, it should be assumed to be a console input.\n",
    "#Consider use dict()\n",
    "\n",
    "n = int(input())\n",
    "d = {}\n",
    "for i in range (1,n+1):\n",
    "    d[i] = i * i \n",
    "print(d)"
   ]
  },
  {
   "cell_type": "code",
   "execution_count": null,
   "metadata": {},
   "outputs": [],
   "source": [
    "#Question 4\n",
    "#Write a program which accepts a sequence of comma-separated numbers from console and generate a list and a \n",
    "#tuple which contains every number.Suppose the following input is supplied to the program:\n",
    "#34,67,55,33,12,98 Then, the output should be:\n",
    "#['34', '67', '55', '33', '12', '98']\n",
    "#('34', '67', '55', '33', '12', '98')\n",
    "#Hints: In case of input data being supplied to the question, it should be assumed to be a console input.tuple() \n",
    "#method can convert list to tuple\n",
    "\n",
    "list = input().split(',') \n",
    "tuple = tuple(list)\n",
    "print(list, tuple)"
   ]
  },
  {
   "cell_type": "code",
   "execution_count": null,
   "metadata": {},
   "outputs": [],
   "source": [
    "#Question 5\n",
    "#Define a class which has at least two methods:\n",
    "#getString: to get a string from console input\n",
    "#printString: to print the string in upper case.\n",
    "#Also please include simple test function to test the class methods.\n",
    "#Hints: Use init method to construct some parameters\n",
    "\n",
    "class IOstring():\n",
    "    def get_string(self):\n",
    "        self.s = input()\n",
    "\n",
    "    def print_string(self):\n",
    "        print(self.s.upper())\n",
    "\n",
    "xx = IOstring()\n",
    "xx.get_string()\n",
    "xx.print_string()"
   ]
  },
  {
   "cell_type": "code",
   "execution_count": null,
   "metadata": {},
   "outputs": [],
   "source": [
    "#Question 6\n",
    "#Write a program that calculates and prints the value according to the given formula:\n",
    "#Q = Square root of [(2 *C *D)/H]\n",
    "#Following are the fixed values of C and H: C is 50. H is 30.\n",
    "#D is the variable whose values should be input to your program in a comma-separated sequence.\n",
    "#For example Let us assume the following comma separated input sequence is given to the program:\n",
    "#100,150,180\n",
    "#The output of the program should be: 18,22,24\n",
    "#Hints: If the output received is in decimal form, it should be rounded off to its nearest value \n",
    "#(for example, if the output received is 26.0, it should be printed as 26).\n",
    "#In case of input data being supplied to the question, it should be assumed to be a console input.\n",
    "\n",
    "from math import sqrt\n",
    "\n",
    "C, H = 50, 30\n",
    "\n",
    "def calc(D):\n",
    "    return sqrt((2*C*D)/H)\n",
    "\n",
    "D = [int(i) for i in input().split(',')]\n",
    "D = [int(i) for i in D]\n",
    "D = [calc(i) for i in D]\n",
    "D = [round(i) for i in D]\n",
    "D = [str(i) for i in D]\n",
    "\n",
    "print(\",\".join(D))"
   ]
  },
  {
   "cell_type": "code",
   "execution_count": null,
   "metadata": {},
   "outputs": [],
   "source": [
    "#Question 7\n",
    "#Write a program which takes 2 digits, X,Y as input and generates a 2-dimensional array. \n",
    "#The element value in the i-th row and j-th column of the array should be i *j.\n",
    "#Note: i=0,1.., X-1; j=0,1,¡­Y-1. \n",
    "#Suppose the following inputs are given to the program: 3,5\n",
    "#Then, the output of the program should be:\n",
    "#[[0, 0, 0, 0, 0], [0, 1, 2, 3, 4], [0, 2, 4, 6, 8]]\n",
    "#Hints: Note: In case of input data being supplied to the question, it should be assumed to be a console input \n",
    "#in a comma-separated form.\n",
    "\n",
    "#npr 2,4 - 2 je koliko dimenzija(x), 4 koliko elemenata(y)\n",
    "#unutra se mnoze sa 2\n",
    "\n",
    "x,y = map(int,input().split(','))\n",
    "lista = []\n",
    "\n",
    "for i in range(x):\n",
    "    temp = []\n",
    "    for j in range(y):\n",
    "        temp.append(i*j)\n",
    "    lista.append(temp)\n",
    "\n",
    "print(lista)"
   ]
  },
  {
   "cell_type": "code",
   "execution_count": null,
   "metadata": {},
   "outputs": [],
   "source": [
    "#Question 8\n",
    "#Write a program that accepts a comma separated sequence of words as input and prints the words in a comma-separated \n",
    "#sequence after sorting them alphabetically. Suppose the following input is supplied to the program:\n",
    "#without,hello,bag,world Then, the output should be: bag,hello,without,world\n",
    "#Hints: In case of input data being supplied to the question, it should be assumed to be a console input.\n",
    "\n",
    "word = input().split(',')\n",
    "word.sort()\n",
    "print(','.join(word))"
   ]
  },
  {
   "cell_type": "code",
   "execution_count": null,
   "metadata": {},
   "outputs": [],
   "source": [
    "#Question 9\n",
    "#Write a program that accepts sequence of lines as input and prints the lines after making all characters in the \n",
    "#sentence capitalized. Suppose the following input is supplied to the program:\n",
    "#Hello world\n",
    "#Practice makes perfect \n",
    "#Then, the output should be: HELLO WORLD PRACTICE MAKES PERFECT\n",
    "#Hints: In case of input data being supplied to the question, it should be assumed to be a console input.\n",
    "\n",
    "lst = []\n",
    "\n",
    "while True:\n",
    "    x = input()\n",
    "    if len(x)==0:\n",
    "        break\n",
    "    lst.append(x.upper())\n",
    "\n",
    "for line in lst:\n",
    "    print(line)\n"
   ]
  },
  {
   "cell_type": "code",
   "execution_count": 7,
   "metadata": {},
   "outputs": [
    {
     "name": "stdout",
     "output_type": "stream",
     "text": [
      "sam ja viktorija\n",
      "ja sam viktorija\n"
     ]
    }
   ],
   "source": [
    "#Question 10\n",
    "#Write a program that accepts a sequence of whitespace separated words as input and prints the words after \n",
    "#removing all duplicate words and sorting them alphanumerically. Suppose the following input is supplied to the \n",
    "#program: hello world and practice makes perfect and hello world again\n",
    "#Then, the output should be: again and hello makes perfect practice world\n",
    "#Hints: In case of input data being supplied to the question, it should be assumed to be a console input.\n",
    "#We use set container to remove duplicated data automatically and then use sorted() to sort the data.\n",
    "\n",
    "word = input().split()\n",
    "for i in word:\n",
    "    if word.count(i) > 1:\n",
    "        word.remove(i)\n",
    "word.sort()\n",
    "print(' '.join(word))"
   ]
  },
  {
   "cell_type": "code",
   "execution_count": 1,
   "metadata": {},
   "outputs": [
    {
     "name": "stdout",
     "output_type": "stream",
     "text": [
      " 0101, 0000\n"
     ]
    }
   ],
   "source": [
    "#Question 11\n",
    "#Write a program which accepts a sequence of comma separated 4 digit binary numbers as its input and then \n",
    "#check whether they are divisible by 5 or not. The numbers that are divisible by 5 are to be printed in a \n",
    "#comma separated sequence. Example: 0100,0011,1010,1001\n",
    "#Then the output should be: 1010\n",
    "#Notes: Assume the data is input by console.\n",
    "#Hints: In case of input data being supplied to the question, it should be assumed to be a console input.\n",
    "\n",
    "data = input().split(',')\n",
    "data = [num for num in data if int(num, 2) % 5 == 0]\n",
    "print(','.join(data))"
   ]
  },
  {
   "cell_type": "code",
   "execution_count": 4,
   "metadata": {},
   "outputs": [
    {
     "name": "stdout",
     "output_type": "stream",
     "text": [
      "2000,2002,2004,2006,2008,2020,2022,2024,2026,2028,2040,2042,2044,2046,2048,2060,2062,2064,2066,2068,2080,2082,2084,2086,2088,2200,2202,2204,2206,2208,2220,2222,2224,2226,2228,2240,2242,2244,2246,2248,2260,2262,2264,2266,2268,2280,2282,2284,2286,2288,2400,2402,2404,2406,2408,2420,2422,2424,2426,2428,2440,2442,2444,2446,2448,2460,2462,2464,2466,2468,2480,2482,2484,2486,2488,2600,2602,2604,2606,2608,2620,2622,2624,2626,2628,2640,2642,2644,2646,2648,2660,2662,2664,2666,2668,2680,2682,2684,2686,2688,2800,2802,2804,2806,2808,2820,2822,2824,2826,2828,2840,2842,2844,2846,2848,2860,2862,2864,2866,2868,2880,2882,2884,2886,2888\n"
     ]
    }
   ],
   "source": [
    "#Question 12\n",
    "#Write a program, which will find all numbers between 1000 and 3000 (both included) such that each digit of \n",
    "#the number is an even number.The numbers obtained should be printed in a comma-separated sequence on a single line.\n",
    "#Hints: In case of input data being supplied to the question, it should be assumed to be a console input.\n",
    "\n",
    "# map() digits of each number with lambda function and check if all() of them even\n",
    "# str(num) gives us opportunity to iterate through number by map() and join()\n",
    "print(','.join([str(num) for num in range(1000, 3001) if all(map(lambda num: int(num) % 2 == 0, str(num)))]))"
   ]
  },
  {
   "cell_type": "code",
   "execution_count": 6,
   "metadata": {},
   "outputs": [
    {
     "name": "stdout",
     "output_type": "stream",
     "text": [
      "caooo 4141241\n",
      "LETTERS 5\n",
      "DIGITS 7\n"
     ]
    }
   ],
   "source": [
    "#Question 13\n",
    "#Write a program that accepts a sentence and calculate the number of letters and digits.\n",
    "#Suppose the following input is supplied to the program: hello world! 123\n",
    "#Then, the output should be: LETTERS 10 DIGITS 3\n",
    "#Hints: In case of input data being supplied to the question, it should be assumed to be a console input.\n",
    "\n",
    "word = input()\n",
    "letter, digit = 0,0\n",
    "for i in word:\n",
    "    if ('a'<=i and i<='z') or ('A'<=i and i<='Z'):\n",
    "        letter+=1\n",
    "    if '0'<=i and i<='9':\n",
    "        digit+=1\n",
    "\n",
    "print(\"LETTERS {0}\\nDIGITS {1}\".format(letter,digit))"
   ]
  },
  {
   "cell_type": "code",
   "execution_count": 9,
   "metadata": {},
   "outputs": [
    {
     "name": "stdout",
     "output_type": "stream",
     "text": [
      "caaaoOOOOOOOO ja sammmm\n",
      "UPPER 8\n",
      "LOWER 13\n"
     ]
    }
   ],
   "source": [
    "#Question 14\n",
    "#Write a program that accepts a sentence and calculate the number of upper case letters and lower case letters.\n",
    "#Suppose the following input is supplied to the program: Hello world!\n",
    "#Then, the output should be: UPPER CASE 1 LOWER CASE 9\n",
    "#Hints: In case of input data being supplied to the question, it should be assumed to be a console input.\n",
    "\n",
    "word = input()\n",
    "upper, lower = 0,0\n",
    "for i in word:\n",
    "    if 'a'<=i and i<='z' :\n",
    "        lower+=1\n",
    "    if 'A'<=i and i<='Z':\n",
    "        upper+=1\n",
    "        \n",
    "\n",
    "print(\"UPPER {0}\\nLOWER {1}\".format(upper,lower))"
   ]
  },
  {
   "cell_type": "code",
   "execution_count": 19,
   "metadata": {},
   "outputs": [
    {
     "name": "stdout",
     "output_type": "stream",
     "text": [
      "2\n",
      "2468\n"
     ]
    }
   ],
   "source": [
    "#Question 15\n",
    "#Write a program that computes the value of a+aa+aaa+aaaa with a given digit as the value of a.\n",
    "#Suppose the following input is supplied to the program: 9\n",
    "#Then, the output should be: 11106\n",
    "\n",
    "a = input()\n",
    "total = int(a) + int(2*a) + int(3*a) + int(4*a)  # N*a=Na, for example  a=\"23\", 2*a=\"2323\",3*a=\"232323\"\n",
    "print(total)\n",
    "    "
   ]
  },
  {
   "cell_type": "code",
   "execution_count": 22,
   "metadata": {},
   "outputs": [
    {
     "name": "stdout",
     "output_type": "stream",
     "text": [
      "1,3,9\n",
      "1,9,81\n"
     ]
    }
   ],
   "source": [
    "#Question 16\n",
    "#Use a list comprehension to square each odd number in a list. The list is input by a sequence of \n",
    "#comma-separated numbers. >Suppose the following input is supplied to the program: 1,2,3,4,5,6,7,8,9\n",
    "#Then, the output should be: 1,9,25,49,81\n",
    "\n",
    "num = input().split(\",\")\n",
    "ls = [str(int(i)**2) for i in num if int(i) % 2]\n",
    "print(','.join(ls))"
   ]
  },
  {
   "cell_type": "code",
   "execution_count": 23,
   "metadata": {},
   "outputs": [
    {
     "name": "stdout",
     "output_type": "stream",
     "text": [
      "D 200\n",
      "W 400\n",
      "W 200\n",
      "\n",
      "-400\n"
     ]
    }
   ],
   "source": [
    "#Question 17\n",
    "#Write a program that computes the net amount of a bank account based a transaction log from console input. \n",
    "#The transaction log format is shown as following: D 100 W 200 D means deposit while W means withdrawal.\n",
    "#Suppose the following input is supplied to the program: D 300 D 300 W 200 D 100\n",
    "#Then, the output should be: 500\n",
    "\n",
    "total = 0\n",
    "while True:\n",
    "    s = input().split()\n",
    "    if not s:            # break if the string is empty\n",
    "        break\n",
    "    cm,num = map(str,s)    # two inputs are distributed in cm and num in string data type\n",
    "\n",
    "    if cm=='D':\n",
    "        total+=int(num)\n",
    "    if cm=='W':\n",
    "        total-=int(num)\n",
    "\n",
    "print(total)"
   ]
  },
  {
   "cell_type": "code",
   "execution_count": 32,
   "metadata": {},
   "outputs": [
    {
     "name": "stdout",
     "output_type": "stream",
     "text": [
      "Enter passwords: ABd1234@1,a F1#,2w3E*,2We3345\n",
      "ABd1234@1\n"
     ]
    }
   ],
   "source": [
    "#Question 18\n",
    "#A website requires the users to input username and password to register. Write a program to check the validity \n",
    "#of password input by users. Following are the criteria for checking the password:\n",
    "#At least 1 letter between [a-z]\n",
    "#At least 1 number between [0-9]\n",
    "#At least 1 letter between [A-Z]\n",
    "#At least 1 character from [$#@]\n",
    "#Minimum length of transaction password: 6\n",
    "#Maximum length of transaction password: 12\n",
    "#Your program should accept a sequence of comma separated passwords and will check them according to the above \n",
    "#criteria. Passwords that match the criteria are to be printed, each separated by a comma.\n",
    "#Example If the following passwords are given as input to the program: ABd1234@1,a F1#,2w3E*,2We3345\n",
    "#Then, the output of the program should be: ABd1234@1\n",
    "\n",
    "import re\n",
    "\n",
    "a = input('Enter passwords: ').split(',')\n",
    "patern = re.compile(r\"^(?=.*[0-9])(?=.*[a-z])(?=.*[A-Z])(?=.*[$#@]).{6,12}$\")\n",
    "for i in a:\n",
    "    if patern.fullmatch(i):\n",
    "        print(i)"
   ]
  },
  {
   "cell_type": "code",
   "execution_count": 34,
   "metadata": {},
   "outputs": [
    {
     "name": "stdout",
     "output_type": "stream",
     "text": [
      "Tom,19,80 \n",
      "John,20,90 \n",
      "Jony,17,91 \n",
      "\n",
      "[('John', '20', '90 '), ('Jony', '17', '91 '), ('Tom', '19', '80 ')]\n"
     ]
    }
   ],
   "source": [
    "#Question 19\n",
    "#You are required to write a program to sort the (name, age, score) tuples by ascending order where \n",
    "#name is string, age and score are numbers. The tuples are input by console. The sort criteria is:\n",
    "#1: Sort based on name #2: Then sort based on age #3: Then sort by score\n",
    "#The priority is that name > age > score. If the following tuples are given as input to the program:\n",
    "#Tom,19,80 \n",
    "#John,20,90 \n",
    "#Jony,17,91 \n",
    "#Jony,17,93 \n",
    "#Json,21,85\n",
    "#Then, the output of the program should be:\n",
    "#[('John', '20', '90'), ('Jony', '17', '91'), ('Jony', '17', '93'), ('Json', '21', '85'), ('Tom', '19', '80')]\n",
    "#Hints: In case of input data being supplied to the question, it should be assumed to be a console input.\n",
    "#We use itemgetter to enable multiple sort keys.\n",
    "\n",
    "lst = []\n",
    "while True:\n",
    "    s = input().split(',')\n",
    "    if not s[0]: # breaks for blank input\n",
    "        break\n",
    "    lst.append(tuple(s))\n",
    "\n",
    "lst.sort(key= lambda x:(x[0],int(x[1]),int(x[2])))  # here key is defined by lambda and the data is sorted by element priority 0>1>2 in accending order\n",
    "print(lst)"
   ]
  },
  {
   "cell_type": "code",
   "execution_count": 39,
   "metadata": {},
   "outputs": [
    {
     "name": "stdout",
     "output_type": "stream",
     "text": [
      "Please enter a number... 63\n",
      "0\n",
      "7\n",
      "14\n",
      "21\n",
      "28\n",
      "35\n",
      "42\n",
      "49\n",
      "56\n",
      "63\n"
     ]
    }
   ],
   "source": [
    "#Question 20\n",
    "#Define a class with a generator which can iterate the numbers, which are divisible by 7, \n",
    "#between a given range 0 and n. Suppose the following input is supplied to the program: 7\n",
    "#Then, the output should be: 0 7 14\n",
    "#Hints: Consider use class, function and comprehension.\n",
    "\n",
    "class MyGen():\n",
    "    def by_seven(self, n):\n",
    "        for i in range(0, int(n/7) + 1):\n",
    "            yield i * 7\n",
    "\n",
    "for i in MyGen().by_seven( int(input('Please enter a number... ')) ):\n",
    "    print(i)"
   ]
  },
  {
   "cell_type": "code",
   "execution_count": 45,
   "metadata": {},
   "outputs": [
    {
     "name": "stdout",
     "output_type": "stream",
     "text": [
      "UP 5\n",
      "DOWN 3\n",
      "LEFT 3\n",
      "RIGHT 2\n",
      "\n",
      "2\n"
     ]
    }
   ],
   "source": [
    "#Question 21\n",
    "#A robot moves in a plane starting from the original point (0,0). The robot can move toward UP, DOWN, LEFT and RIGHT \n",
    "#with a given steps. The trace of robot movement is shown as the following:\n",
    "#UP 5\n",
    "#DOWN 3\n",
    "#LEFT 3\n",
    "#RIGHT 2\n",
    "#The numbers after the direction are steps. Please write a program to compute the distance from current position \n",
    "#after a sequence of movement and original point. If the distance is a float, then just print the nearest integer. \n",
    "#Example: If the following tuples are given as input to the program:\n",
    "#UP 5\n",
    "#DOWN 3\n",
    "#LEFT 3\n",
    "#RIGHT 2\n",
    "#Then, the output of the program should be: 2\n",
    "#Hints: In case of input data being supplied to the question, it should be assumed to be a console input.\n",
    "#Here distance indicates to euclidean distance.Import math module to use sqrt function.\n",
    "\n",
    "import  math\n",
    "\n",
    "x,y = 0,0\n",
    "while True:\n",
    "    s = input().split()\n",
    "    if not s:\n",
    "        break\n",
    "    if s[0]=='UP':                  # s[0] indicates command\n",
    "        x-=int(s[1])                # s[1] indicates unit of move\n",
    "    if s[0]=='DOWN':\n",
    "        x+=int(s[1])\n",
    "    if s[0]=='LEFT':\n",
    "        y-=int(s[1])\n",
    "    if s[0]=='RIGHT':\n",
    "        y+=int(s[1])\n",
    "                                    # N**P means N^P\n",
    "dist = round(math.sqrt(x**2 + y**2))  # euclidean distance = square root of (x^2+y^2) and rounding it to nearest integer\n",
    "print(dist)"
   ]
  },
  {
   "cell_type": "code",
   "execution_count": 203,
   "metadata": {},
   "outputs": [
    {
     "name": "stdout",
     "output_type": "stream",
     "text": [
      "ja se zovem viktorija viktorija ja ja ja\n",
      "ja:4\n",
      "se:1\n",
      "viktorija:2\n",
      "zovem:1\n"
     ]
    }
   ],
   "source": [
    "#22\n",
    "#Write a program to compute the frequency of the words from the input. The output should output after sorting the \n",
    "#key alphanumerically. Suppose the following input is supplied to the program:\n",
    "#New to Python or choosing between Python 2 and Python 3? Read Python 2 or Python 3.\n",
    "#Then, the output should be:\n",
    "#2:2\n",
    "#3.:1\n",
    "#3?:1\n",
    "#New:1\n",
    "#Python:5\n",
    "#Read:1\n",
    "#and:1\n",
    "#between:1\n",
    "#choosing:1\n",
    "#or:2\n",
    "#to:1\n",
    "#Hint In case of input data being supplied to the question, it should be assumed to be a console input.\n",
    "\n",
    "ss = input().split()\n",
    "word = sorted(set(ss))     # split words are stored and sorted as a set\n",
    "\n",
    "for i in word:\n",
    "    print(\"{0}:{1}\".format(i,ss.count(i)))"
   ]
  },
  {
   "cell_type": "code",
   "execution_count": 204,
   "metadata": {},
   "outputs": [
    {
     "name": "stdout",
     "output_type": "stream",
     "text": [
      "2\n",
      "4\n"
     ]
    }
   ],
   "source": [
    "#23\n",
    "#Write a method which can calculate square value of number\n",
    "#Hints: Using the ** operator which can be written as n**p where means n^p\n",
    "\n",
    "s = int(input())\n",
    "print(s**2)"
   ]
  },
  {
   "cell_type": "code",
   "execution_count": 205,
   "metadata": {},
   "outputs": [
    {
     "name": "stdout",
     "output_type": "stream",
     "text": [
      "str(object='') -> str\n",
      "str(bytes_or_buffer[, encoding[, errors]]) -> str\n",
      "\n",
      "Create a new string object from the given object. If encoding or\n",
      "errors is specified, then the object must expose a data buffer\n",
      "that will be decoded using the given encoding and error handler.\n",
      "Otherwise, returns the result of object.__str__() (if defined)\n",
      "or repr(object).\n",
      "encoding defaults to sys.getdefaultencoding().\n",
      "errors defaults to 'strict'.\n",
      "Return a new list containing all items from the iterable in ascending order.\n",
      "\n",
      "A custom key function can be supplied to customize the sort order, and the\n",
      "reverse flag can be set to request the result in descending order.\n",
      "81\n",
      "\n",
      "    param n: This is any integer number\n",
      "    param p: This is power over n\n",
      "    return:  n to the power p = n^p\n",
      "    \n"
     ]
    }
   ],
   "source": [
    "#24\n",
    "#Python has many built-in functions, and if you do not know how to use it, you can read document online or find \n",
    "#some books. But Python has a built-in document function for every built-in functions.\n",
    "#Please write a program to print some Python built-in functions documents, such as abs(), int(), raw_input()\n",
    "#And add document for your own function\n",
    "#Hints: The built-in document method is __doc__\n",
    "\n",
    "print(str.__doc__)\n",
    "print(sorted.__doc__)\n",
    "\n",
    "def pow(n,p):\n",
    "    '''\n",
    "    param n: This is any integer number\n",
    "    param p: This is power over n\n",
    "    return:  n to the power p = n^p\n",
    "    '''\n",
    "\n",
    "    return n**p\n",
    "\n",
    "print(pow(3,4))\n",
    "print(pow.__doc__)"
   ]
  },
  {
   "cell_type": "code",
   "execution_count": 207,
   "metadata": {},
   "outputs": [
    {
     "name": "stdout",
     "output_type": "stream",
     "text": [
      "Person name is Jeffrey\n",
      "Person name is Nico\n"
     ]
    }
   ],
   "source": [
    "#25\n",
    "#Define a class, which have a class parameter and have a same instance parameter.\n",
    "#Hints: Define an instance parameter, need add it in __init__ method.You can init an object with construct \n",
    "#parameter or set the value later\n",
    "\n",
    "class Person:\n",
    "    # Define the class parameter \"name\"\n",
    "    name = \"Person\"\n",
    "\n",
    "    def __init__(self, name = None):\n",
    "        # self.name is the instance parameter\n",
    "        self.name = name\n",
    "\n",
    "jeffrey = Person(\"Jeffrey\")\n",
    "print (\"%s name is %s\" % (Person.name, jeffrey.name))\n",
    "\n",
    "nico = Person()\n",
    "nico.name = \"Nico\"\n",
    "print (\"%s name is %s\" % (Person.name, nico.name))"
   ]
  },
  {
   "cell_type": "code",
   "execution_count": 211,
   "metadata": {},
   "outputs": [
    {
     "name": "stdout",
     "output_type": "stream",
     "text": [
      "9\n",
      "3\n"
     ]
    }
   ],
   "source": [
    "#26\n",
    "#Define a function which can compute the sum of two numbers.\n",
    "#Hints: Define a function with two numbers as arguments. You can compute the sum in the function and return the value.\n",
    "\n",
    "def sum(x,y):\n",
    "    return x + y\n",
    "print(sum(4,5))    \n",
    "\n",
    "sum = lambda n1,n2 : n1 + n2      # here lambda is use to define little function as sum\n",
    "print(sum(1,2))"
   ]
  },
  {
   "cell_type": "code",
   "execution_count": 214,
   "metadata": {},
   "outputs": [
    {
     "name": "stdout",
     "output_type": "stream",
     "text": [
      "32\n",
      "10\n",
      "<class 'str'>\n"
     ]
    }
   ],
   "source": [
    "#27\n",
    "#Define a function that can convert a integer into a string and print it in console.\n",
    "#Hints: Use str() to convert a number to string.\n",
    "\n",
    "def conver(i):\n",
    "    return str(i)\n",
    "print(conver(32))\n",
    "\n",
    "conv = lambda x : str(x)\n",
    "n = conv(10)\n",
    "print(n)\n",
    "print(type(n))            # checks the type of the variable"
   ]
  },
  {
   "cell_type": "code",
   "execution_count": 220,
   "metadata": {},
   "outputs": [
    {
     "name": "stdout",
     "output_type": "stream",
     "text": [
      "99\n"
     ]
    }
   ],
   "source": [
    "#28\n",
    "#Define a function that can receive two integer numbers in string form and compute their sum and then print \n",
    "#it in console.\n",
    "#Hints: Use int() to convert a string to integer.\n",
    "\n",
    "def sum(x,y):\n",
    "    return int(x) + int(y)\n",
    "print(sum(\"44\",\"55\"))"
   ]
  },
  {
   "cell_type": "code",
   "execution_count": 221,
   "metadata": {},
   "outputs": [
    {
     "name": "stdout",
     "output_type": "stream",
     "text": [
      "gelodelo\n"
     ]
    }
   ],
   "source": [
    "#29\n",
    "#Define a function that can accept two strings as input and concatenate them and then print it in console.\n",
    "#Hints: Use + sign to concatenate the strings.\n",
    "\n",
    "def stri(s1,s2):\n",
    "    return s1 + s2\n",
    "print(stri(\"gelo\",\"delo\"))"
   ]
  },
  {
   "cell_type": "code",
   "execution_count": 227,
   "metadata": {},
   "outputs": [
    {
     "name": "stdout",
     "output_type": "stream",
     "text": [
      "three\n"
     ]
    }
   ],
   "source": [
    "#30\n",
    "#Define a function that can accept two strings as input and print the string with maximum length in console. \n",
    "#If two strings have the same length, then the function should print all strings line by line.\n",
    "#Hints: Use len() function to get the length of a string.\n",
    "\n",
    "def stri(s1,s2):\n",
    "\tlen1 = len(s1)\n",
    "\tlen2 = len(s2)\n",
    "\tif len1 > len2:\n",
    "\t\tprint (s1)\n",
    "\telif len2 > len1:\n",
    "\t\tprint (s2)\n",
    "\telse:\n",
    "\t\tprint (s1)\n",
    "\t\tprint (s2)\n",
    "\n",
    "stri(\"one\",\"three\")"
   ]
  },
  {
   "cell_type": "code",
   "execution_count": 229,
   "metadata": {},
   "outputs": [
    {
     "name": "stdout",
     "output_type": "stream",
     "text": [
      "{1: 1, 2: 4, 3: 9, 4: 16, 5: 25, 6: 36, 7: 49, 8: 64, 9: 81, 10: 100, 11: 121, 12: 144, 13: 169, 14: 196, 15: 225, 16: 256, 17: 289, 18: 324, 19: 361, 20: 400}\n"
     ]
    }
   ],
   "source": [
    "#31\n",
    "#Define a function which can print a dictionary where the keys are numbers between 1 and 20 (both included) and \n",
    "#the values are square of keys.\n",
    "#Hints: Use dict[key]=value pattern to put entry into a dictionary.Use ** operator to get power of a number.\n",
    "#Use range() for loops.\n",
    "\n",
    "dc = {num:num**2 for num in range(1,21)}\n",
    "print(dc)\n"
   ]
  },
  {
   "cell_type": "code",
   "execution_count": 230,
   "metadata": {},
   "outputs": [
    {
     "name": "stdout",
     "output_type": "stream",
     "text": [
      "dict_keys([1, 2, 3, 4, 5, 6, 7, 8, 9, 10, 11, 12, 13, 14, 15, 16, 17, 18, 19, 20])\n"
     ]
    }
   ],
   "source": [
    "#32\n",
    "#Define a function which can generate a dictionary where the keys are numbers between 1 and 20 (both included) \n",
    "#and the values are square of keys. The function should just print the keys only.\n",
    "#Hints: Use dict[key]=value pattern to put entry into a dictionary.Use ** operator to get power of a number.\n",
    "#Use range() for loops.Use keys() to iterate keys in the dictionary. Also we can use item() to get key/value pairs.\n",
    "\n",
    "dc = {num:num**2 for num in range(1,21)}\n",
    "print(dc.keys())"
   ]
  },
  {
   "cell_type": "code",
   "execution_count": 234,
   "metadata": {},
   "outputs": [
    {
     "name": "stdout",
     "output_type": "stream",
     "text": [
      "[1, 4, 9, 16, 25, 36, 49, 64, 81, 100, 121, 144, 169, 196, 225, 256, 289, 324, 361, 400]\n"
     ]
    }
   ],
   "source": [
    "#33\n",
    "#Define a function which can generate and print a list where the values are square of numbers between 1 and 20 \n",
    "#(both included).\n",
    "#Hints: Use ** operator to get power of a number.Use range() for loops.Use list.append() to add values into a list.\n",
    "\n",
    "lst = [i ** 2 for i in range(1, 21)]\n",
    "print(lst)"
   ]
  },
  {
   "cell_type": "code",
   "execution_count": 235,
   "metadata": {},
   "outputs": [
    {
     "name": "stdout",
     "output_type": "stream",
     "text": [
      "[1, 4, 9, 16, 25]\n"
     ]
    }
   ],
   "source": [
    "#34\n",
    "#Define a function which can generate a list where the values are square of numbers between 1 and 20 (both included). \n",
    "#Then the function needs to print the first 5 elements in the list.\n",
    "#Hints: Use ** operator to get power of a number.Use range() for loops.Use list.append() to add values into a list.\n",
    "#Use [n1:n2] to slice a list\n",
    "\n",
    "lst = [i ** 2 for i in range(1, 21)]\n",
    "print(lst[:5])"
   ]
  },
  {
   "cell_type": "code",
   "execution_count": 238,
   "metadata": {},
   "outputs": [
    {
     "name": "stdout",
     "output_type": "stream",
     "text": [
      "[256, 289, 324, 361, 400]\n"
     ]
    }
   ],
   "source": [
    "#35\n",
    "#Define a function which can generate a list where the values are square of numbers between 1 and 20 (both included). \n",
    "#Then the function needs to print the last 5 elements in the list.\n",
    "\n",
    "lst = [i ** 2 for i in range(1, 21)]\n",
    "print(lst[-5:])"
   ]
  },
  {
   "cell_type": "code",
   "execution_count": 239,
   "metadata": {},
   "outputs": [
    {
     "name": "stdout",
     "output_type": "stream",
     "text": [
      "[36, 49, 64, 81, 100, 121, 144, 169, 196, 225, 256, 289, 324, 361, 400]\n"
     ]
    }
   ],
   "source": [
    "#36\n",
    "#Define a function which can generate a list where the values are square of numbers between 1 and 20 (both included). \n",
    "#Then the function needs to print all values except the first 5 elements in the list.\n",
    "\n",
    "lst = [i ** 2 for i in range(1, 21)]\n",
    "print(lst[5:])"
   ]
  },
  {
   "cell_type": "code",
   "execution_count": 247,
   "metadata": {},
   "outputs": [
    {
     "name": "stdout",
     "output_type": "stream",
     "text": [
      "(1, 4, 9, 16, 25, 36, 49, 64, 81, 100, 121, 144, 169, 196, 225, 256, 289, 324, 361, 400)\n"
     ]
    }
   ],
   "source": [
    "#37\n",
    "#Define a function which can generate and print a tuple where the value are square of numbers between 1 and 20 (\n",
    "#both included).\n",
    "\n",
    "def printTuple():\n",
    "    ls = [i ** 2 for i in range(1, 21)]\n",
    "    print(tuple(ls))\n",
    "printTuple()"
   ]
  },
  {
   "cell_type": "code",
   "execution_count": 51,
   "metadata": {},
   "outputs": [
    {
     "name": "stdout",
     "output_type": "stream",
     "text": [
      "(1, 2, 3, 4, 5)\n",
      "(6, 7, 8, 9, 10)\n"
     ]
    }
   ],
   "source": [
    "#Question 38\n",
    "#With a given tuple (1,2,3,4,5,6,7,8,9,10), write a program to print the first half values in one line and \n",
    "#the last half values in one line.\n",
    "#Hints: Use [n1:n2] notation to get a slice from a tuple.\n",
    "\n",
    "tapl = (1,2,3,4,5,6,7,8,9,10)\n",
    "l1 = tapl[:5]\n",
    "l2 = tapl[5:]\n",
    "print(l1)\n",
    "print(l2)"
   ]
  },
  {
   "cell_type": "code",
   "execution_count": 57,
   "metadata": {},
   "outputs": [
    {
     "name": "stdout",
     "output_type": "stream",
     "text": [
      "(2, 4, 6, 8, 10)\n"
     ]
    }
   ],
   "source": [
    "#Question 39\n",
    "#Question: Write a program to generate and print another tuple whose values are even numbers in the given tuple \n",
    "#(1,2,3,4,5,6,7,8,9,10).\n",
    "#Hints: Use \"for\" to iterate the tuple. Use tuple() to generate a tuple from a list.\n",
    "\n",
    "tpl = (1,2,3,4,5,6,7,8,9,10)\n",
    "tpl1 = tuple(i for i in tpl if i%2 == 0)\n",
    "print(tpl1)"
   ]
  },
  {
   "cell_type": "code",
   "execution_count": 62,
   "metadata": {},
   "outputs": [
    {
     "name": "stdout",
     "output_type": "stream",
     "text": [
      "Yes\n",
      "Yes\n"
     ]
    }
   ],
   "source": [
    "#Question 40\n",
    "#Write a program which accepts a string as input to print \"Yes\" if the string is \"yes\" or \"YES\" or \"Yes\", \n",
    "#otherwise print \"No\".\n",
    "#Hints: Use if statement to judge condition.\n",
    "\n",
    "stri = input()\n",
    "if stri == \"yes\" or stri == \"YES\" or stri == \"Yes\":\n",
    "        print(\"Yes\")\n",
    "else:\n",
    "        print(\"No\")"
   ]
  },
  {
   "cell_type": "code",
   "execution_count": 65,
   "metadata": {},
   "outputs": [
    {
     "name": "stdout",
     "output_type": "stream",
     "text": [
      "[1, 4, 9, 16, 25, 36, 49, 64, 81, 100]\n"
     ]
    }
   ],
   "source": [
    "#Question 41\n",
    "#Write a program which can map() to make a list whose elements are square of elements in [1,2,3,4,5,6,7,8,9,10].\n",
    "#Use map() to generate a list.Use lambda to define anonymous functions.\n",
    "\n",
    "li = [1,2,3,4,5,6,7,8,9,10]\n",
    "kvadrat = map(lambda x: x**2, li)\n",
    "print(list(kvadrat))"
   ]
  },
  {
   "cell_type": "code",
   "execution_count": 76,
   "metadata": {},
   "outputs": [
    {
     "name": "stdout",
     "output_type": "stream",
     "text": [
      "[4, 16, 36, 64, 100]\n"
     ]
    }
   ],
   "source": [
    "#Question 42\n",
    "#Write a program which can map() and filter() to make a list whose elements are square of even number in \n",
    "#[1,2,3,4,5,6,7,8,9,10].\n",
    "#Hints: Use map() to generate a list.Use filter() to filter elements of a list.\n",
    "#Use lambda to define anonymous functions.\n",
    "\n",
    "li = [1,2,3,4,5,6,7,8,9,10]\n",
    "evenNumbers = map(lambda x: x**2, filter(lambda x: x%2==0, li))\n",
    "print (list(evenNumbers))"
   ]
  },
  {
   "cell_type": "code",
   "execution_count": 79,
   "metadata": {},
   "outputs": [
    {
     "name": "stdout",
     "output_type": "stream",
     "text": [
      "[2, 4, 6, 8, 10, 12, 14, 16, 18, 20]\n"
     ]
    }
   ],
   "source": [
    "#Question 43\n",
    "#Write a program which can filter() to make a list whose elements are even number between 1 and 20 (both included).\n",
    "#Hints: Use filter() to filter elements of a list.Use lambda to define anonymous functions.\n",
    "\n",
    "celi_brojevi = filter(lambda x: x%2 == 0, range(1,21))\n",
    "print (list(celi_brojevi))"
   ]
  },
  {
   "cell_type": "code",
   "execution_count": 80,
   "metadata": {},
   "outputs": [
    {
     "name": "stdout",
     "output_type": "stream",
     "text": [
      "[1, 4, 9, 16, 25, 36, 49, 64, 81, 100, 121, 144, 169, 196, 225, 256, 289, 324, 361, 400]\n"
     ]
    }
   ],
   "source": [
    "#Question 44\n",
    "#Write a program which can map() to make a list whose elements are square of numbers between 1 and 20 (both included).\n",
    "#Use map() to generate a list. Use lambda to define anonymous functions.\n",
    "\n",
    "kvadrat = map(lambda x:x**2, range(1,21))\n",
    "print(list(kvadrat))"
   ]
  },
  {
   "cell_type": "code",
   "execution_count": 84,
   "metadata": {},
   "outputs": [
    {
     "name": "stdout",
     "output_type": "stream",
     "text": [
      "Nacionalnost\n"
     ]
    }
   ],
   "source": [
    "#Question 45\n",
    "#Define a class named American which has a static method called printNationality.\n",
    "#Hints: Use @staticmethod decorator to define class static method.There are also two more methods.\n",
    "\n",
    "class American():\n",
    "    @staticmethod\n",
    "    def printNat():\n",
    "            print(\"Nacionalnost\")\n",
    "            \n",
    "American.printNat()"
   ]
  },
  {
   "cell_type": "code",
   "execution_count": 86,
   "metadata": {},
   "outputs": [
    {
     "name": "stdout",
     "output_type": "stream",
     "text": [
      "<class '__main__.American'>\n",
      "<class '__main__.NewYorker'>\n"
     ]
    }
   ],
   "source": [
    "#Question 46\n",
    "#Define a class named American and its subclass NewYorker.\n",
    "#Hints: Use class Subclass(ParentClass) to define a subclass.*\n",
    "\n",
    "class American():\n",
    "    pass\n",
    "class NewYorker(American):\n",
    "    pass\n",
    "\n",
    "print(American)\n",
    "print(NewYorker)"
   ]
  },
  {
   "cell_type": "code",
   "execution_count": 88,
   "metadata": {},
   "outputs": [
    {
     "name": "stdout",
     "output_type": "stream",
     "text": [
      "78.53999999999999\n"
     ]
    }
   ],
   "source": [
    "#Question 47\n",
    "#Define a class named Circle which can be constructed by a radius. \n",
    "#The Circle class has a method which can compute the area.\n",
    "#Hints Use def methodName(self) to define a method.\n",
    "\n",
    "class Circle:\n",
    "    def __init__(self, radious):\n",
    "        self.radious = radious\n",
    "    def area(self):\n",
    "        return 3.1416*(self.radious**2)\n",
    "circle = Circle(5)\n",
    "print(circle.area())"
   ]
  },
  {
   "cell_type": "code",
   "execution_count": 94,
   "metadata": {},
   "outputs": [
    {
     "name": "stdout",
     "output_type": "stream",
     "text": [
      "8\n"
     ]
    }
   ],
   "source": [
    "#Question 48\n",
    "#Define a class named Rectangle which can be constructed by a length and width. The Rectangle class has a method \n",
    "#which can compute the area.\n",
    "#Hints Use def methodName(self) to define a method.\n",
    "\n",
    "class Rectangle:\n",
    "    def __init__(self, length, width):\n",
    "        self.length = length\n",
    "        self.width = width\n",
    "    def area(self):\n",
    "        return self.length*self.width\n",
    "rect = Rectangle(2,4)\n",
    "print(rect.area())"
   ]
  },
  {
   "cell_type": "code",
   "execution_count": 95,
   "metadata": {},
   "outputs": [
    {
     "name": "stdout",
     "output_type": "stream",
     "text": [
      "25\n",
      "0\n"
     ]
    }
   ],
   "source": [
    "#Question 49\n",
    "#Define a class named Shape and its subclass Square. The Square class has an init function which takes a length as \n",
    "#argument. Both classes have a area function which can print the area of the shape where Shape's area is 0 by default.\n",
    "#Hints To override a method in super class, we can define a method with the same name in the super class.\n",
    "\n",
    "class Shape:\n",
    "    def __init__(self):\n",
    "        pass\n",
    "\n",
    "    def area(self):\n",
    "        return 0\n",
    "\n",
    "class Square(Shape):\n",
    "    def __init__(self,length = 0):\n",
    "        Shape.__init__(self)\n",
    "        self.length = length\n",
    "\n",
    "    def area(self):\n",
    "        return self.length*self.length\n",
    "Asqr = Square(5)\n",
    "print(Asqr.area())      # prints 25 as given argument\n",
    "\n",
    "print(Square().area())  # prints zero as default area"
   ]
  },
  {
   "cell_type": "code",
   "execution_count": 97,
   "metadata": {},
   "outputs": [
    {
     "ename": "RuntimeError",
     "evalue": "Eror",
     "output_type": "error",
     "traceback": [
      "\u001b[0;31m---------------------------------------------------------------------------\u001b[0m",
      "\u001b[0;31mRuntimeError\u001b[0m                              Traceback (most recent call last)",
      "\u001b[0;32m<ipython-input-97-20998a7e0dcf>\u001b[0m in \u001b[0;36m<module>\u001b[0;34m\u001b[0m\n\u001b[1;32m      1\u001b[0m \u001b[0;31m#Question 50 Please raise a RuntimeError exception.\u001b[0m\u001b[0;34m\u001b[0m\u001b[0;34m\u001b[0m\u001b[0;34m\u001b[0m\u001b[0m\n\u001b[1;32m      2\u001b[0m \u001b[0;31m#Hints UUse raise() to raise an exception.\u001b[0m\u001b[0;34m\u001b[0m\u001b[0;34m\u001b[0m\u001b[0;34m\u001b[0m\u001b[0m\n\u001b[0;32m----> 3\u001b[0;31m \u001b[0;32mraise\u001b[0m \u001b[0mRuntimeError\u001b[0m\u001b[0;34m(\u001b[0m\u001b[0;34m\"Eror\"\u001b[0m\u001b[0;34m)\u001b[0m\u001b[0;34m\u001b[0m\u001b[0;34m\u001b[0m\u001b[0m\n\u001b[0m",
      "\u001b[0;31mRuntimeError\u001b[0m: Eror"
     ]
    }
   ],
   "source": [
    "#Question 50 Please raise a RuntimeError exception.\n",
    "#Hints UUse raise() to raise an exception.\n",
    "raise RuntimeError(\"Eror\")"
   ]
  },
  {
   "cell_type": "code",
   "execution_count": 98,
   "metadata": {},
   "outputs": [
    {
     "name": "stdout",
     "output_type": "stream",
     "text": [
      "ne moze\n"
     ]
    }
   ],
   "source": [
    "#Question 51\n",
    "#Write a function to compute 5/0 and use try/except to catch the exceptions.\n",
    "#Hints Use try/except to catch exceptions.\n",
    "\n",
    "try:\n",
    "    5/0\n",
    "except ZeroDivisionError as ze:\n",
    "    print('ne moze')"
   ]
  },
  {
   "cell_type": "code",
   "execution_count": 99,
   "metadata": {},
   "outputs": [
    {
     "name": "stdout",
     "output_type": "stream",
     "text": [
      "0\n",
      "The error raised: Input is less than 10\n"
     ]
    }
   ],
   "source": [
    "#Question 52\n",
    "#Define a custom exception class which takes a string message as attribute.\n",
    "#Hints To define a custom exception, we need to define a class inherited from Exception.\n",
    "\n",
    "class CustomException(Exception):\n",
    "    def __init__(self, message):\n",
    "        self.message = message\n",
    "\n",
    "\n",
    "num = int(input())\n",
    "\n",
    "try:\n",
    "    if num < 10:\n",
    "        raise CustomException(\"Input is less than 10\")\n",
    "    elif num > 10:\n",
    "        raise CustomException(\"Input is grater than 10\")\n",
    "except CustomException as ce:\n",
    "    print(\"The error raised: \" + ce.message)"
   ]
  },
  {
   "cell_type": "code",
   "execution_count": 104,
   "metadata": {},
   "outputs": [
    {
     "name": "stdout",
     "output_type": "stream",
     "text": [
      "ername@companyname.com\n",
      "ername\n",
      "ername@companyname.com\n",
      "['ername']\n"
     ]
    }
   ],
   "source": [
    "#Question 53\n",
    "#Assuming that we have some email addresses in the \"username@companyname.com\" format, please write program to \n",
    "#print the user name of a given email address. Both user names and company names are composed of letters only.\n",
    "#Example: If the following email address is given as input to the program: john@google.com\n",
    "#Then, the output of the program should be: john\n",
    "#In case of input data being supplied to the question, it should be assumed to be a console input.\n",
    "#Hints Use \\w to match letters.\n",
    "\n",
    "email = input()\n",
    "email = email.split('@')\n",
    "print(email[0])\n",
    "\n",
    "import re\n",
    "\n",
    "email1 = input()\n",
    "pattern = \"(\\w+)@\\w+.com\"\n",
    "ans = re.findall(pattern,email1)\n",
    "print(str(ans))"
   ]
  },
  {
   "cell_type": "code",
   "execution_count": 106,
   "metadata": {},
   "outputs": [
    {
     "name": "stdout",
     "output_type": "stream",
     "text": [
      "['google', 'python']\n"
     ]
    }
   ],
   "source": [
    "#Question 54\n",
    "#Assuming that we have some email addresses in the \"username@companyname.com\" format, please write program to \n",
    "#print the company name of a given email address. Both user names and company names are composed of letters only.\n",
    "#Example: If the following email address is given as input to the program: john@google.com\n",
    "#Then, the output of the program should be: google\n",
    "#In case of input data being supplied to the question, it should be assumed to be a console input.\n",
    "#Hints Use \\w to match letters.\n",
    "\n",
    "import re\n",
    "\n",
    "email = \"john@google.com elise@python.com\"\n",
    "pattern = \"\\w+@(\\w+).com\"\n",
    "ans = re.findall(pattern,email)\n",
    "print(ans)"
   ]
  },
  {
   "cell_type": "code",
   "execution_count": 110,
   "metadata": {},
   "outputs": [
    {
     "name": "stdout",
     "output_type": "stream",
     "text": [
      "2 cats and 3 dogs\n",
      "['2', '3']\n"
     ]
    }
   ],
   "source": [
    "#Question 55\n",
    "#Write a program which accepts a sequence of words separated by whitespace as input to print the words composed \n",
    "#of digits only. Example: If the following words is given as input to the program: 2 cats and 3 dogs.\n",
    "#Then, the output of the program should be: ['2', '3']\n",
    "#In case of input data being supplied to the question, it should be assumed to be a console input.\n",
    "#Hints Use re.findall() to find all substring using regex.\n",
    "\n",
    "import re\n",
    "digit = input()\n",
    "pattern = \"\\d+\"\n",
    "ans = re.findall(pattern,digit)\n",
    "print(ans)"
   ]
  },
  {
   "cell_type": "code",
   "execution_count": 115,
   "metadata": {},
   "outputs": [
    {
     "name": "stdout",
     "output_type": "stream",
     "text": [
      "hello world!\n"
     ]
    }
   ],
   "source": [
    "#Question 56\n",
    "#Print a unicode string \"hello world\".\n",
    "#Hints Use u'strings' format to define unicode string.\n",
    "\n",
    "unicodeString = u\"hello world!\"\n",
    "print (unicodeString)"
   ]
  },
  {
   "cell_type": "code",
   "execution_count": 116,
   "metadata": {},
   "outputs": [
    {
     "name": "stdout",
     "output_type": "stream",
     "text": [
      "cao\n",
      "b'cao'\n"
     ]
    }
   ],
   "source": [
    "#Question 57\n",
    "#Write a program to read an ASCII string and to convert it to a unicode string encoded by utf-8.\n",
    "#Hints Use unicode()/encode() function to convert.\n",
    "\n",
    "s = input()\n",
    "u = s.encode('utf-8')\n",
    "print(u)"
   ]
  },
  {
   "cell_type": "code",
   "execution_count": 117,
   "metadata": {},
   "outputs": [],
   "source": [
    "#Question 58\n",
    "#Write a special comment to indicate a Python source code file is in unicode.\n",
    "#Hints Use unicode() function to convert.\n",
    "# -*- coding: utf-8 -*-"
   ]
  },
  {
   "cell_type": "code",
   "execution_count": 120,
   "metadata": {},
   "outputs": [
    {
     "name": "stdout",
     "output_type": "stream",
     "text": [
      "6\n",
      "4.41\n"
     ]
    }
   ],
   "source": [
    "#Question 59\n",
    "#Write a program to compute 1/2+2/3+3/4+...+n/n+1 with a given n input by console (n>0).\n",
    "#Example: If the following n is given as input to the program: 5\n",
    "#Then, the output of the program should be: 3.55\n",
    "#In case of input data being supplied to the question, it should be assumed to be a console input.\n",
    "#Hints Use float() to convert an integer to a float.Even if not converted it wont cause a problem because \n",
    "#python by default understands the data type of a value\n",
    "\n",
    "n = int(input())\n",
    "sum = 0\n",
    "for i in range(1, n+1):\n",
    "    sum+= i/(i+1)\n",
    "print(round(sum, 2))  # rounded to 2 decimal point"
   ]
  },
  {
   "cell_type": "code",
   "execution_count": 270,
   "metadata": {},
   "outputs": [
    {
     "name": "stdout",
     "output_type": "stream",
     "text": [
      "5\n",
      "500\n"
     ]
    }
   ],
   "source": [
    "#60\n",
    "# Write a program to compute: f(n)=f(n-1)+100 when n>0 and f(0)=0\n",
    "# with a given n input by console (n>0).\n",
    "# Example: If the following n is given as input to the program: 5\n",
    "# Then, the output of the program should be: 500\n",
    "# In case of input data being supplied to the question, it should be assumed to be a console input.\n",
    "# Hints We can define recursive function in Python.\n",
    "\n",
    "def f(n):\n",
    "    if n == 0:\n",
    "        return 0\n",
    "    return f(n-1) + 100\n",
    "\n",
    "n = int(input())\n",
    "print(f(n))"
   ]
  },
  {
   "cell_type": "code",
   "execution_count": 271,
   "metadata": {},
   "outputs": [
    {
     "name": "stdout",
     "output_type": "stream",
     "text": [
      "7\n",
      "13\n"
     ]
    }
   ],
   "source": [
    "#61\n",
    "# The Fibonacci Sequence is computed based on the following formula:\n",
    "# f(n)=0 if n=0\n",
    "# f(n)=1 if n=1\n",
    "# f(n)=f(n-1)+f(n-2) if n>1\n",
    "# Please write a program to compute the value of f(n) with a given n input by console.\n",
    "# Example: If the following n is given as input to the program: 7\n",
    "# Then, the output of the program should be: 13\n",
    "# In case of input data being supplied to the question, it should be assumed to be a console input.\n",
    "# Hints We can define recursive function in Python.\n",
    "\n",
    "def f(n):\n",
    "    if n < 2:\n",
    "        return n\n",
    "    return f(n-1) + f(n-2)\n",
    "\n",
    "n = int(input())\n",
    "print(f(n))"
   ]
  },
  {
   "cell_type": "code",
   "execution_count": 276,
   "metadata": {},
   "outputs": [
    {
     "name": "stdout",
     "output_type": "stream",
     "text": [
      "7\n",
      "0,1,1,2,3,5,8,13\n"
     ]
    }
   ],
   "source": [
    "#62\n",
    "# The Fibonacci Sequence is computed based on the following formula:\n",
    "# f(n)=0 if n=0\n",
    "# f(n)=1 if n=1\n",
    "# f(n)=f(n-1)+f(n-2) if n>1\n",
    "# Please write a program to compute the value of f(n) with a given n input by console.\n",
    "# Example: If the following n is given as input to the program: 7\n",
    "# Then, the output of the program should be: 0,1,1,2,3,5,8,13\n",
    "# In case of input data being supplied to the question, it should be assumed to be a console input.\n",
    "# Hints We can define recursive function in Python. Use list comprehension to generate a list from an existing list. \n",
    "# Use string.join() to join a list of strings.\n",
    "\n",
    "def f(n):\n",
    "    if n < 2:\n",
    "        return n\n",
    "    return f(n-1) + f(n-2)\n",
    "\n",
    "n = int(input())\n",
    "values = [str(f(x)) for x in range(0, n+1)]\n",
    "print (\",\".join(values))"
   ]
  },
  {
   "cell_type": "code",
   "execution_count": 278,
   "metadata": {},
   "outputs": [
    {
     "name": "stdout",
     "output_type": "stream",
     "text": [
      "10\n",
      "0,2,4,6,8,10\n"
     ]
    }
   ],
   "source": [
    "#63\n",
    "# Please write a program using generator to print the even numbers between 0 and n in comma separated \n",
    "# form while n is input by console.\n",
    "# Example: If the following n is given as input to the program: 10\n",
    "# Then, the output of the program should be: 0,2,4,6,8,10\n",
    "# In case of input data being supplied to the question, it should be assumed to be a console input.\n",
    "# Hints Use yield to produce the next value in generator.\n",
    "\n",
    "n = int(input())\n",
    "def EvenGenerator(n):\n",
    "    i = 0\n",
    "    while i <= n:\n",
    "        if i%2 == 0:\n",
    "            yield i\n",
    "        i+=1\n",
    "\n",
    "values = []\n",
    "for i in EvenGenerator(n):\n",
    "    values.append(str(i))\n",
    "    \n",
    "print(','.join(values))"
   ]
  },
  {
   "cell_type": "code",
   "execution_count": 283,
   "metadata": {},
   "outputs": [
    {
     "name": "stdout",
     "output_type": "stream",
     "text": [
      "100\n",
      "0,35,70\n"
     ]
    }
   ],
   "source": [
    "#64\n",
    "# Please write a program using generator to print the numbers which can be divisible by 5 and 7 between 0 and n \n",
    "# in comma separated form while n is input by console.\n",
    "# Example: If the following n is given as input to the program: 100\n",
    "# Then, the output of the program should be: 0,35,70\n",
    "# In case of input data being supplied to the question, it should be assumed to be a console input.\n",
    "# Hints Use yield to produce the next value in generator.\n",
    "\n",
    "n = int(input())\n",
    "def NeparniGenerator(n):\n",
    "    for i in range(n+1):\n",
    "        if i%5==0 and i%7==0:\n",
    "            yield i\n",
    "values = []\n",
    "for i in NeparniGenerator(n):\n",
    "    values.append(str(i))\n",
    "    \n",
    "print(','.join(values))"
   ]
  },
  {
   "cell_type": "code",
   "execution_count": 285,
   "metadata": {},
   "outputs": [],
   "source": [
    "#65\n",
    "# Please write assert statements to verify that every number in the list [2,4,6,8] is even.\n",
    "# Hints Use \"assert expression\" to make assertion.\n",
    "\n",
    "li = [2,4,6,8]\n",
    "for i in li:\n",
    "    assert i%2==0"
   ]
  },
  {
   "cell_type": "code",
   "execution_count": 292,
   "metadata": {},
   "outputs": [
    {
     "name": "stdout",
     "output_type": "stream",
     "text": [
      "33*33\n",
      "1089\n"
     ]
    }
   ],
   "source": [
    "#66\n",
    "# Please write a program which accepts basic mathematic expression from console and print the evaluation result.\n",
    "# Example: If the following n is given as input to the program: 35 + 3\n",
    "# Then, the output of the program should be: 38\n",
    "# Hints Use eval() to evaluate an expression.\n",
    "\n",
    "expression = input()\n",
    "ans = eval(expression)\n",
    "print(ans)"
   ]
  },
  {
   "cell_type": "code",
   "execution_count": 293,
   "metadata": {},
   "outputs": [
    {
     "name": "stdout",
     "output_type": "stream",
     "text": [
      "None\n"
     ]
    }
   ],
   "source": [
    "#67\n",
    "# Please write a binary search function which searches an item in a sorted list. \n",
    "# The function should return the index of element to be searched in the list.\n",
    "# Hints Use if/elif to deal with conditions.\n",
    "\n",
    "def binary_search(lst, item):\n",
    "    low = 0\n",
    "    high = len(lst) - 1\n",
    "    \n",
    "    while low <= high:\n",
    "        mid = round((low + high) / 2)\n",
    "        \n",
    "        if lst[mid] == item:\n",
    "            return mid\n",
    "        elif lst[mid] > item:\n",
    "            high = mid - 1\n",
    "        else:\n",
    "            low = mid + 1\n",
    "    return None\n",
    "    \n",
    "lst = [1,3,5,7,]\n",
    "print(binary_search(lst, 9))   "
   ]
  },
  {
   "cell_type": "code",
   "execution_count": 297,
   "metadata": {},
   "outputs": [
    {
     "name": "stdout",
     "output_type": "stream",
     "text": [
      "73.0830457170325\n",
      "58.436617281130786\n"
     ]
    }
   ],
   "source": [
    "#68\n",
    "# Please generate a random float where the value is between 10 and 100 using Python module.\n",
    "# Hints Use random.random() to generate a random float in [0,1].\n",
    "\n",
    "import random\n",
    "print(random.random()*100)\n",
    "\n",
    "rand_num = random.uniform(10,100)\n",
    "print(rand_num)"
   ]
  },
  {
   "cell_type": "code",
   "execution_count": 300,
   "metadata": {},
   "outputs": [
    {
     "name": "stdout",
     "output_type": "stream",
     "text": [
      "93.64131980488345\n"
     ]
    }
   ],
   "source": [
    "#69\n",
    "# Please generate a random float where the value is between 5 and 95 using Python module\n",
    "# Hints Use random.random() to generate a random float in [0,1].\n",
    "\n",
    "import random\n",
    "\n",
    "rand_num = random.uniform(5,95)\n",
    "print(rand_num)"
   ]
  },
  {
   "cell_type": "code",
   "execution_count": 269,
   "metadata": {},
   "outputs": [
    {
     "name": "stdout",
     "output_type": "stream",
     "text": [
      "8\n"
     ]
    }
   ],
   "source": [
    "#70\n",
    "#Please write a program to output a random even number between 0 and 10 inclusive using random module and \n",
    "#list comprehension.\n",
    "#Hints Use random.choice() to a random element from a list.\n",
    "\n",
    "import random\n",
    "r = [i for i in range(0,11,2)]\n",
    "print(random.choice(r))"
   ]
  },
  {
   "cell_type": "code",
   "execution_count": 267,
   "metadata": {},
   "outputs": [
    {
     "name": "stdout",
     "output_type": "stream",
     "text": [
      "35\n"
     ]
    }
   ],
   "source": [
    "#71\n",
    "#Please write a program to output a random number, which is divisible by 5 and 7, between 10 and 150 inclusive \n",
    "#using random module and list comprehension.\n",
    "#Hints Use random.choice() to a random element from a list.\n",
    "\n",
    "import random\n",
    "print(random.choice([i for i in range(10,151) if i%7==0 and i%5==0]))"
   ]
  },
  {
   "cell_type": "code",
   "execution_count": 266,
   "metadata": {},
   "outputs": [
    {
     "name": "stdout",
     "output_type": "stream",
     "text": [
      "[167, 163, 199, 178, 165]\n"
     ]
    }
   ],
   "source": [
    "#72\n",
    "#Please write a program to generate a list with 5 random numbers between 100 and 200 inclusive.\n",
    "#Hints Use random.sample() to generate a list of random values.\n",
    "\n",
    "import random\n",
    "print(random.sample(range(100,201),5))"
   ]
  },
  {
   "cell_type": "code",
   "execution_count": 261,
   "metadata": {},
   "outputs": [
    {
     "name": "stdout",
     "output_type": "stream",
     "text": [
      "[134, 130, 174, 178, 110]\n"
     ]
    }
   ],
   "source": [
    "#73\n",
    "#Please write a program to randomly generate a list with 5 even numbers between 100 and 200 inclusive.\n",
    "#Hints Use random.sample() to generate a list of random values.\n",
    "\n",
    "import random\n",
    "print(random.sample([i for i in range(100,201) if i%2==0],5))"
   ]
  },
  {
   "cell_type": "code",
   "execution_count": 265,
   "metadata": {},
   "outputs": [
    {
     "name": "stdout",
     "output_type": "stream",
     "text": [
      "[420, 70, 770, 140, 945]\n",
      "[200, 142, 128, 108, 174]\n"
     ]
    }
   ],
   "source": [
    "#74\n",
    "#Please write a program to randomly generate a list with 5 numbers, which are divisible by 5 and 7 , between \n",
    "#1 and 1000 inclusive.\n",
    "#Hints Use random.sample() to generate a list of random values.\n",
    "\n",
    "import random\n",
    "print(random.sample([i for i in range(1,1001) if i%5==0 and i%7==0],5))\n",
    "\n",
    "resp = random.sample(range(100,201,2),5)\n",
    "print(resp)"
   ]
  },
  {
   "cell_type": "code",
   "execution_count": 124,
   "metadata": {},
   "outputs": [
    {
     "name": "stdout",
     "output_type": "stream",
     "text": [
      "10\n"
     ]
    }
   ],
   "source": [
    "#Question 75\n",
    "#Please write a program to randomly print a integer number between 7 and 15 inclusive.\n",
    "#Hints Use random.randrange() to a random integer in a given range.\n",
    "\n",
    "import random\n",
    "print(random.randrange(7,15))"
   ]
  },
  {
   "cell_type": "code",
   "execution_count": 134,
   "metadata": {},
   "outputs": [
    {
     "name": "stdout",
     "output_type": "stream",
     "text": [
      "b'x\\x9c\\xcbH\\xcd\\xc9\\xc9W(\\xcf/\\xcaIQ\\xcc \\x82\\r\\x00\\xbd[\\x11\\xf5'\n",
      "b'hello world!hello world!hello world!hello world!'\n"
     ]
    }
   ],
   "source": [
    "#Question 76\n",
    "#Please write a program to compress and decompress the string \"hello world!hello world!hello world!hello world!\".\n",
    "#Hints Use zlib.compress() and zlib.decompress() to compress and decompress a string.\n",
    "\n",
    "import zlib\n",
    "stri = \"hello world!hello world!hello world!hello world!\"\n",
    "# In Python 3 zlib.compress() accepts only DataType <bytes>\n",
    "s = bytes(stri, 'utf-8')\n",
    "x = zlib.compress(s)\n",
    "print(x)\n",
    "y = zlib.decompress(x)\n",
    "print(y)"
   ]
  },
  {
   "cell_type": "code",
   "execution_count": 136,
   "metadata": {},
   "outputs": [
    {
     "name": "stdout",
     "output_type": "stream",
     "text": [
      "8.487701416015625e-05\n"
     ]
    }
   ],
   "source": [
    "#Question 77\n",
    "#Please write a program to print the running time of execution of \"1+1\" for 100 times.\n",
    "#Hints Use timeit() function to measure the running time.\n",
    "\n",
    "from time import time\n",
    "before = time()\n",
    "for i in range(100):\n",
    "    x = 1 + 1\n",
    "after = time()\n",
    "execution_time = after - before\n",
    "print(execution_time)"
   ]
  },
  {
   "cell_type": "code",
   "execution_count": 140,
   "metadata": {},
   "outputs": [
    {
     "name": "stdout",
     "output_type": "stream",
     "text": [
      "[7, 6, 8, 3]\n"
     ]
    }
   ],
   "source": [
    "#Question 78\n",
    "#Please write a program to shuffle and print the list [3,6,7,8].\n",
    "#Hints Use shuffle() function to shuffle a list.\n",
    "\n",
    "from random import shuffle\n",
    "ls = [3,6,7,8]\n",
    "random.shuffle(ls)\n",
    "print(ls)"
   ]
  },
  {
   "cell_type": "code",
   "execution_count": 144,
   "metadata": {},
   "outputs": [
    {
     "name": "stdout",
     "output_type": "stream",
     "text": [
      "('I', 'Play', 'Hockey')\n",
      "('I', 'Play', 'Football')\n",
      "('I', 'Love', 'Hockey')\n",
      "('I', 'Love', 'Football')\n",
      "('You', 'Play', 'Hockey')\n",
      "('You', 'Play', 'Football')\n",
      "('You', 'Love', 'Hockey')\n",
      "('You', 'Love', 'Football')\n"
     ]
    }
   ],
   "source": [
    "#Question 79\n",
    "#Please write a program to generate all sentences where subject is in [\"I\", \"You\"] and verb is in [\"Play\", \"Love\"] \n",
    "#and the object is in [\"Hockey\",\"Football\"].\n",
    "#Hints Use list[index] notation to get a element from a list.\n",
    "\n",
    "import itertools\n",
    "subject = [\"I\", \"You\"]\n",
    "verb = [\"Play\", \"Love\"]\n",
    "objects = [\"Hockey\",\"Football\"]\n",
    "\n",
    "sentence = [subject, verb, objects]\n",
    "n = list(itertools.product(*sentence))\n",
    "for i in n: \n",
    "    print(i)"
   ]
  },
  {
   "cell_type": "code",
   "execution_count": 147,
   "metadata": {},
   "outputs": [
    {
     "name": "stdout",
     "output_type": "stream",
     "text": [
      "[5, 77, 45]\n"
     ]
    }
   ],
   "source": [
    "#Question 80\n",
    "#Please write a program to print the list after removing even numbers in [5,6,77,45,22,12,24].\n",
    "#Hints Use list comprehension to delete a bunch of element from a list.\n",
    "\n",
    "ls = [5,6,77,45,22,12,24]\n",
    "ls = [i for i in ls if i%2!=0]\n",
    "print(ls)"
   ]
  },
  {
   "cell_type": "code",
   "execution_count": 152,
   "metadata": {},
   "outputs": [
    {
     "name": "stdout",
     "output_type": "stream",
     "text": [
      "[12, 24, 88]\n"
     ]
    }
   ],
   "source": [
    "#Question 81\n",
    "#By using list comprehension, please write a program to print the list after removing numbers which are divisible \n",
    "#by 5 and 7 in [12,24,35,70,88,120,155].\n",
    "#Hints Use list comprehension to delete a bunch of element from a list.\n",
    "\n",
    "ls = [12,24,35,70,88,120,155]\n",
    "ls = [i for i in ls if i%5!=0 and i%7!=0]\n",
    "print(ls)"
   ]
  },
  {
   "cell_type": "code",
   "execution_count": 153,
   "metadata": {},
   "outputs": [
    {
     "name": "stdout",
     "output_type": "stream",
     "text": [
      "[24, 70, 120]\n"
     ]
    }
   ],
   "source": [
    "#Question 82\n",
    "#By using list comprehension, please write a program to print the list after removing the 0th, 2nd, 4th,6th numbers \n",
    "#in [12,24,35,70,88,120,155].\n",
    "#Hints Use list comprehension to delete a bunch of element from a list. Use enumerate() to get (index, value) tuple.\n",
    "\n",
    "li = [12,24,35,70,88,120,155]\n",
    "li = [x for (i,x) in enumerate(li) if i%2 != 0 and i <= 6]\n",
    "print (li)"
   ]
  },
  {
   "cell_type": "code",
   "execution_count": 159,
   "metadata": {},
   "outputs": [
    {
     "name": "stdout",
     "output_type": "stream",
     "text": [
      "[12, 24, 120, 155]\n"
     ]
    }
   ],
   "source": [
    "#Question 83\n",
    "#By using list comprehension, please write a program to print the list after removing the 2nd - 4th numbers in \n",
    "#[12,24,35,70,88,120,155].\n",
    "#Hints Use list comprehension to delete a bunch of element from a list. Use enumerate() to get (index, value) tuple.\n",
    "\n",
    "lst = [12,24,35,70,88,120,155]\n",
    "print([i for i in lst if lst.index(i) not in range(2,5)])"
   ]
  },
  {
   "cell_type": "code",
   "execution_count": 162,
   "metadata": {},
   "outputs": [
    {
     "name": "stdout",
     "output_type": "stream",
     "text": [
      "[[[0, 0, 0, 0, 0, 0, 0, 0], [0, 0, 0, 0, 0, 0, 0, 0], [0, 0, 0, 0, 0, 0, 0, 0], [0, 0, 0, 0, 0, 0, 0, 0], [0, 0, 0, 0, 0, 0, 0, 0]], [[0, 0, 0, 0, 0, 0, 0, 0], [0, 0, 0, 0, 0, 0, 0, 0], [0, 0, 0, 0, 0, 0, 0, 0], [0, 0, 0, 0, 0, 0, 0, 0], [0, 0, 0, 0, 0, 0, 0, 0]], [[0, 0, 0, 0, 0, 0, 0, 0], [0, 0, 0, 0, 0, 0, 0, 0], [0, 0, 0, 0, 0, 0, 0, 0], [0, 0, 0, 0, 0, 0, 0, 0], [0, 0, 0, 0, 0, 0, 0, 0]]]\n"
     ]
    }
   ],
   "source": [
    "#Question 84\n",
    "#By using list comprehension, please write a program generate a 3*5*8 3D array whose each element is 0.\n",
    "#Hints Use list comprehension to make an array.\n",
    "\n",
    "array = [[ [0 for col in range(8)] for col in range(5)] for row in range(3)]\n",
    "print (array)"
   ]
  },
  {
   "cell_type": "code",
   "execution_count": 163,
   "metadata": {},
   "outputs": [
    {
     "name": "stdout",
     "output_type": "stream",
     "text": [
      "[24, 35, 70, 155]\n"
     ]
    }
   ],
   "source": [
    "#Question 85\n",
    "#By using list comprehension, please write a program to print the list after removing the 0th,4th,5th numbers in \n",
    "#[12,24,35,70,88,120,155].\n",
    "#Hints Use list comprehension to delete a bunch of element from a list.Use enumerate() to get (index, value) tuple.\n",
    "li = [12, 24, 35, 70, 88, 120, 155]\n",
    "print(list(x for i, x in enumerate(li) if i != 0 and i != 4 and i != 5))"
   ]
  },
  {
   "cell_type": "code",
   "execution_count": 167,
   "metadata": {},
   "outputs": [
    {
     "name": "stdout",
     "output_type": "stream",
     "text": [
      "[12, 35, 88, 120, 155]\n"
     ]
    }
   ],
   "source": [
    "#Question 86\n",
    "#By using list comprehension, please write a program to print the list after removing the value 24 in \n",
    "#[12,24,35,24,88,120,155].\n",
    "#Hints Use list's remove method to delete a value.\n",
    "\n",
    "ls = [12,24,35,24,88,120,155]\n",
    "ls = [i for i in ls if i!=24]\n",
    "print(ls)"
   ]
  },
  {
   "cell_type": "code",
   "execution_count": 171,
   "metadata": {},
   "outputs": [
    {
     "name": "stdout",
     "output_type": "stream",
     "text": [
      "{35}\n"
     ]
    }
   ],
   "source": [
    "#Question 87\n",
    "#With two given lists [1,3,6,78,35,55] and [12,24,35,24,88,120,155], write a program to make a list whose \n",
    "#elements are intersection of the above given lists.\n",
    "#Hints Use set() and \"&=\" to do set intersection operation.\n",
    "\n",
    "ls1 = [1,3,6,78,35,55]\n",
    "ls2 = [12,24,35,24,88,120,155]\n",
    "a = set(ls1)\n",
    "b = set(ls2)\n",
    "print(a.intersection(b))"
   ]
  },
  {
   "cell_type": "code",
   "execution_count": 173,
   "metadata": {},
   "outputs": [
    {
     "name": "stdout",
     "output_type": "stream",
     "text": [
      "{35, 12, 155, 24, 88, 120}\n",
      "[35, 12, 155, 24, 88, 120]\n"
     ]
    }
   ],
   "source": [
    "#Question 88\n",
    "#With a given list [12,24,35,24,88,120,155,88,120,155], write a program to print this list after removing all \n",
    "#duplicate values with original order reserved.\n",
    "#Hints Use set() to store a number of values without duplicate.\n",
    "\n",
    "ls = [12,24,35,24,88,120,155,88,120,155]\n",
    "a = set(ls)\n",
    "print(a)\n",
    "b = list(a)\n",
    "print(b)"
   ]
  },
  {
   "cell_type": "code",
   "execution_count": 178,
   "metadata": {},
   "outputs": [
    {
     "name": "stdout",
     "output_type": "stream",
     "text": [
      "Female\n",
      "Male\n"
     ]
    }
   ],
   "source": [
    "#Question 89\n",
    "#Define a class Person and its two child classes: Male and Female. All classes have a method \"getGender\" which can \n",
    "#print \"Male\" for Male class and \"Female\" for Female class.\n",
    "#Hints Use Subclass(Parentclass) to define a child class.\n",
    "\n",
    "class Person(object):\n",
    "    def __init__(self):\n",
    "        self.gender = \"unknown\"\n",
    "\n",
    "    def getGender(self):\n",
    "        print(self.gender)\n",
    "\n",
    "class Male(Person):\n",
    "    def __init__(self):\n",
    "        self.gender = \"Male\"\n",
    "\n",
    "class Female(Person):\n",
    "    def __init__(self):\n",
    "        self.gender = \"Female\"\n",
    "\n",
    "sharon = Female()\n",
    "doug = Male()\n",
    "sharon.getGender()\n",
    "doug.getGender()"
   ]
  },
  {
   "cell_type": "code",
   "execution_count": 181,
   "metadata": {},
   "outputs": [
    {
     "name": "stdout",
     "output_type": "stream",
     "text": [
      "fahuefhauhaefddddd\n",
      "f,3\n",
      "a,3\n",
      "h,3\n",
      "u,2\n",
      "e,2\n",
      "d,5\n"
     ]
    }
   ],
   "source": [
    "#Question 90\n",
    "#Please write a program which count and print the numbers of each character in a string input by console.\n",
    "#Example: If the following string is given as input to the program: abcdefgabc\n",
    "#Then, the output of the program should be:\n",
    "#a,2\n",
    "#c,2\n",
    "#b,2\n",
    "#e,1\n",
    "#d,1\n",
    "#g,1\n",
    "#f,1\n",
    "#Hints Use dict to store key/value pairs. Use dict.get() method to lookup a key with default value.\n",
    "\n",
    "dic = {}\n",
    "s=input()\n",
    "for s in s:\n",
    "    dic[s] = dic.get(s,0)+1\n",
    "print ('\\n'.join(['%s,%s' % (k, v) for k, v in dic.items()]))"
   ]
  },
  {
   "cell_type": "code",
   "execution_count": 188,
   "metadata": {},
   "outputs": [
    {
     "name": "stdout",
     "output_type": "stream",
     "text": [
      "viktorija\n",
      "ajirotkiv\n"
     ]
    }
   ],
   "source": [
    "#Question 91\n",
    "#Please write a program which accepts a string from console and print it in reverse order.\n",
    "#Example: If the following string is given as input to the program:* rise to vote sir\n",
    "#Then, the output of the program should be: ris etov ot esir\n",
    "#Hints Use list[::-1] to iterate a list in a reverse order.\n",
    "\n",
    "s = input()\n",
    "s = ''.join(reversed(s))\n",
    "print(s)"
   ]
  },
  {
   "cell_type": "code",
   "execution_count": 189,
   "metadata": {},
   "outputs": [
    {
     "name": "stdout",
     "output_type": "stream",
     "text": [
      "Helloworld\n"
     ]
    }
   ],
   "source": [
    "#Question 92\n",
    "#Please write a program which accepts a string from console and print the characters that have even indexes.\n",
    "#Example: If the following string is given as input to the program: H1e2l3l4o5w6o7r8l9d\n",
    "#Then, the output of the program should be: Helloworld\n",
    "#Hints Use list[::2] to iterate a list by step 2.\n",
    "\n",
    "s = \"H1e2l3l4o5w6o7r8l9d\"\n",
    "s = [ s[i] for i in range(len(s)) if i%2 ==0 ]\n",
    "print(''.join(s))"
   ]
  },
  {
   "cell_type": "code",
   "execution_count": 197,
   "metadata": {},
   "outputs": [
    {
     "name": "stdout",
     "output_type": "stream",
     "text": [
      "(1, 2, 3)\n",
      "(1, 3, 2)\n",
      "(2, 1, 3)\n",
      "(2, 3, 1)\n",
      "(3, 1, 2)\n",
      "(3, 2, 1)\n"
     ]
    }
   ],
   "source": [
    "#Question 93\n",
    "#Please write a program which prints all permutations of [1,2,3]\n",
    "#Hints Use itertools.permutations() to get permutations of list.\n",
    "\n",
    "from itertools import permutations\n",
    "\n",
    "def permuation_generator(iterable):\n",
    "    p = permutations(iterable)\n",
    "    for i in p:\n",
    "        print(i)\n",
    "\n",
    "x = [1,2,3]\n",
    "permuation_generator(x)"
   ]
  },
  {
   "cell_type": "code",
   "execution_count": 201,
   "metadata": {},
   "outputs": [
    {
     "name": "stdout",
     "output_type": "stream",
     "text": [
      "(23, 12)\n"
     ]
    }
   ],
   "source": [
    "#Question 94\n",
    "#Write a program to solve a classic ancient Chinese puzzle: We count 35 heads and 94 legs among the chickens and \n",
    "#rabbits in a farm. How many rabbits and how many chickens do we have?\n",
    "#Hints Use for loop to iterate all possible solutions.\n",
    "\n",
    "def solve(numheads,numlegs):\n",
    "    ns='No solutions!'\n",
    "    for i in range(numheads+1):\n",
    "        j=numheads-i\n",
    "        if 2*i+4*j==numlegs:\n",
    "            return i,j\n",
    "    return ns,ns\n",
    "\n",
    "numheads = 35\n",
    "numlegs = 94\n",
    "solutions=solve(numheads,numlegs)\n",
    "print (solutions)"
   ]
  },
  {
   "cell_type": "code",
   "execution_count": 311,
   "metadata": {},
   "outputs": [
    {
     "name": "stdout",
     "output_type": "stream",
     "text": [
      "5\n",
      "2 3 6 6 5\n",
      "5\n"
     ]
    }
   ],
   "source": [
    "# 95\n",
    "# Given the participants' score sheet for your University Sports Day, you are required to find the runner-up score. \n",
    "# You are given scores. Store them in a list and find the score of the runner-up.\n",
    "# If the following string is given as input to the program:\n",
    "# 5\n",
    "# 2 3 6 6 5\n",
    "# Then, the output of the program should be: # 5\n",
    "# Hints Make the scores unique and then find 2nd best number\n",
    "\n",
    "n = int(input())\n",
    "arr = map(int,input().split())\n",
    "arr = list(set(arr))\n",
    "arr.sort()\n",
    "print(arr[-2])"
   ]
  },
  {
   "cell_type": "code",
   "execution_count": 314,
   "metadata": {},
   "outputs": [
    {
     "name": "stdout",
     "output_type": "stream",
     "text": [
      "viktorija\n",
      "4\n",
      "vikt\n",
      "orij\n",
      "a\n"
     ]
    }
   ],
   "source": [
    "# 96\n",
    "# You are given a string S and width W. Your task is to wrap the string into a paragraph of width.\n",
    "# If the following string is given as input to the program: ABCDEFGHIJKLIMNOQRSTUVWXYZ\n",
    "# 4\n",
    "# Then, the output of the program should be:\n",
    "# ABCD\n",
    "# EFGH\n",
    "# IJKL\n",
    "# IMNO\n",
    "# QRST\n",
    "# UVWX\n",
    "# YZ\n",
    "# Hints Use wrap function of textwrap module\n",
    "\n",
    "import textwrap\n",
    "string = input()\n",
    "width = int(input())\n",
    "\n",
    "print(textwrap.fill(string,width))"
   ]
  },
  {
   "cell_type": "code",
   "execution_count": 317,
   "metadata": {},
   "outputs": [
    {
     "name": "stdout",
     "output_type": "stream",
     "text": [
      "4\n",
      "------d------\n",
      "----d-c-d----\n",
      "--d-c-b-c-d--\n",
      "d-c-b-a-b-c-d\n",
      "--d-c-b-c-d--\n",
      "----d-c-d----\n",
      "------d------\n"
     ]
    }
   ],
   "source": [
    "# 97\n",
    "# You are given an integer, N. Your task is to print an alphabet rangoli of size N. \n",
    "#(Rangoli is a form of Indian folk art based on creation of patterns.)\n",
    "# Different sizes of alphabet rangoli are shown below:\n",
    "# #size 3\n",
    "# ----c----\n",
    "# --c-b-c--\n",
    "# c-b-a-b-c\n",
    "# --c-b-c--\n",
    "# ----c----\n",
    "# #size 5\n",
    "# --------e--------\n",
    "# ------e-d-e------\n",
    "# ----e-d-c-d-e----\n",
    "# --e-d-c-b-c-d-e--\n",
    "# e-d-c-b-a-b-c-d-e\n",
    "# --e-d-c-b-c-d-e--\n",
    "# ----e-d-c-d-e----\n",
    "# ------e-d-e------\n",
    "# --------e--------\n",
    "# Hints First print the half of the Rangoli in the given way and save each line in a list. \n",
    "#Then print the list in reverse order to get the rest.\n",
    "\n",
    "import string\n",
    "def print_rangoli(size):\n",
    "    n = size\n",
    "    alph = string.ascii_lowercase\n",
    "    width = 4 * n - 3\n",
    "\n",
    "    ans = []\n",
    "    for i in range(n):\n",
    "        left = '-'.join(alph[n - i - 1:n])\n",
    "        mid = left[-1:0:-1] + left\n",
    "        final = mid.center(width, '-')\n",
    "        ans.append(final)\n",
    "\n",
    "    if len(ans) > 1:\n",
    "        for i in ans[n - 2::-1]:\n",
    "            ans.append(i)\n",
    "    ans = '\\n'.join(ans)\n",
    "    print(ans)\n",
    "\n",
    "\n",
    "if __name__ == '__main__':\n",
    "    n = int(input())\n",
    "    print_rangoli(n)"
   ]
  },
  {
   "cell_type": "code",
   "execution_count": 2,
   "metadata": {},
   "outputs": [
    {
     "name": "stdout",
     "output_type": "stream",
     "text": [
      "05 22 1992\n",
      "FRIDAY\n"
     ]
    }
   ],
   "source": [
    "# 98\n",
    "# You are given a date. Your task is to find what the day is on that date.\n",
    "# Input A single line of input containing the space separated month, day and year, respectively, in MM DD YYYY format.\n",
    "# 08 05 2015\n",
    "# Output Output the correct day in capital letters.\n",
    "# WEDNESDAY\n",
    "# Hints Use weekday function of calender module\n",
    "\n",
    "import calendar\n",
    "\n",
    "month, day, year = map(int, input().split())\n",
    "\n",
    "dayId = calendar.weekday(year, month, day)\n",
    "print(calendar.day_name[dayId].upper())"
   ]
  },
  {
   "cell_type": "code",
   "execution_count": 3,
   "metadata": {},
   "outputs": [
    {
     "name": "stdout",
     "output_type": "stream",
     "text": [
      "4\n",
      "2 4 5 9\n",
      "4\n",
      "2 4 11 12\n",
      "5\n",
      "9\n",
      "11\n",
      "12\n"
     ]
    }
   ],
   "source": [
    "# 99\n",
    "# Given 2 sets of integers, M and N, print their symmetric difference in ascending order. \n",
    "# The term symmetric difference indicates those values that exist in either M or N but do not exist in both.\n",
    "# Input The first line of input contains an integer, M.The second line contains M space-separated integers.\n",
    "# The third line contains an integer, N.The fourth line contains N space-separated integers.\n",
    "# 4\n",
    "# 2 4 5 9\n",
    "# 4\n",
    "# 2 4 11 12\n",
    "# Output Output the symmetric difference integers in ascending order, one per line.\n",
    "# 5\n",
    "# 9\n",
    "# 11\n",
    "# 12\n",
    "# Hints Use '^' to make symmetric difference operation.\n",
    "\n",
    "if __name__ == '__main__':\n",
    "    n = int(input())\n",
    "    set1 = set(map(int,input().split()))\n",
    "\n",
    "    m = int(input())\n",
    "    set2 = set(map(int, input().split()))\n",
    "\n",
    "    ans = list(set1 ^ set2)\n",
    "    ans.sort()\n",
    "    for i in ans:\n",
    "        print(i)"
   ]
  },
  {
   "cell_type": "code",
   "execution_count": 5,
   "metadata": {},
   "outputs": [
    {
     "name": "stdout",
     "output_type": "stream",
     "text": [
      "3\n",
      "vika\n",
      "siktorija\n",
      "vika\n",
      "2\n",
      "21"
     ]
    }
   ],
   "source": [
    "# 100\n",
    "# You are given words. Some words may repeat. For each word, output its number of occurrences. \n",
    "# The output order should correspond with the input order of appearance of the word. See the sample input/output for \n",
    "# clarification. If the following string is given as input to the program:\n",
    "# 4\n",
    "# bcdef \n",
    "# abcdefg\n",
    "# bcde\n",
    "# bcdef\n",
    "# Then, the output of the program should be:\n",
    "# 3\n",
    "# 2 1 1\n",
    "# Hints Make a list to get the input order and a dictionary to count the word frequency\n",
    "\n",
    "n = int(input())\n",
    "\n",
    "word_list = []\n",
    "word_dict = {}\n",
    "\n",
    "for i in range(n):\n",
    "    word = input()\n",
    "    if word not in word_dict:\n",
    "        word_list.append(word)\n",
    "    word_dict[word] = word_dict.get(word,0) + 1\n",
    "    \n",
    "print(len(word_list))\n",
    "for word in word_list:\n",
    "    print(word_dict[word], end='')"
   ]
  },
  {
   "cell_type": "code",
   "execution_count": 7,
   "metadata": {},
   "outputs": [
    {
     "name": "stdout",
     "output_type": "stream",
     "text": [
      "viktorijaaaa\n",
      "a 4\n",
      "i 2\n",
      "j 1\n",
      "k 1\n",
      "o 1\n",
      "r 1\n",
      "t 1\n",
      "v 1\n"
     ]
    }
   ],
   "source": [
    "# 101\n",
    "# You are given a string.Your task is to count the frequency of letters of the string and print the letters \n",
    "# in descending order of frequency. If the following string is given as input to the program:\n",
    "# aabbbccde\n",
    "# Then, the output of the program should be:\n",
    "# b 3\n",
    "# a 2\n",
    "# c 2\n",
    "# d 1\n",
    "# e 1\n",
    "# Hints Count frequency with dictionary and sort by Value from dictionary Items\n",
    "\n",
    "word = input()\n",
    "letters_dict = {}\n",
    "for i in word:\n",
    "    letters_dict[i] = letters_dict.get(i,0) + 1\n",
    "    \n",
    "letters_dict = sorted(letters_dict.items(),key=lambda x: (-x[1],x[0]))\n",
    "for i in letters_dict:\n",
    "    print(i[0],i[1])"
   ]
  },
  {
   "cell_type": "code",
   "execution_count": 9,
   "metadata": {},
   "outputs": [
    {
     "name": "stdout",
     "output_type": "stream",
     "text": [
      "s12ik33go34jn\n",
      "Digit - 6\n",
      "Letter - 7\n"
     ]
    }
   ],
   "source": [
    "# 102\n",
    "# Write a Python program that accepts a string and calculate the number of digits and letters.\n",
    "# Input Hello321Bye360\n",
    "# Output\n",
    "# Digit - 6\n",
    "# Letter - 8\n",
    "# Hints Use isdigit() and isalpha() function\n",
    "\n",
    "str = input()\n",
    "digit, letter = 0,0\n",
    "for i in str:\n",
    "    digit += i.isdigit()\n",
    "    letter += i.isalpha()\n",
    "\n",
    "print('Digit -',digit)\n",
    "print('Letter -',letter)"
   ]
  },
  {
   "cell_type": "code",
   "execution_count": 14,
   "metadata": {},
   "outputs": [
    {
     "name": "stdout",
     "output_type": "stream",
     "text": [
      "4\n",
      "10\n"
     ]
    }
   ],
   "source": [
    "# 103\n",
    "# Given a number N.Find Sum of 1 to N Using Recursion\n",
    "# Input 5\n",
    "# Output 15\n",
    "# Hints Make a recursive function to get the sum\n",
    "\n",
    "n = int(input())\n",
    "\n",
    "def rec(n):\n",
    "    if n==0:\n",
    "        return 0\n",
    "    return rec(n-1)+n\n",
    "\n",
    "sum = rec(n)\n",
    "print(sum)"
   ]
  },
  {
   "cell_type": "code",
   "execution_count": null,
   "metadata": {},
   "outputs": [],
   "source": []
  }
 ],
 "metadata": {
  "kernelspec": {
   "display_name": "Python 3",
   "language": "python",
   "name": "python3"
  },
  "language_info": {
   "codemirror_mode": {
    "name": "ipython",
    "version": 3
   },
   "file_extension": ".py",
   "mimetype": "text/x-python",
   "name": "python",
   "nbconvert_exporter": "python",
   "pygments_lexer": "ipython3",
   "version": "3.8.5"
  }
 },
 "nbformat": 4,
 "nbformat_minor": 4
}
